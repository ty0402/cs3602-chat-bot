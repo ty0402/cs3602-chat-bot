{
 "cells": [
  {
   "cell_type": "code",
   "execution_count": 24,
   "metadata": {},
   "outputs": [],
   "source": [
    "batch = [\n",
    "    {'instruction': 'Give three tips for staying healthy.', 'input': '', 'output': 'Bonjour'},\n",
    "    {'instruction': 'Sum', 'input': '1 2', 'output': '3'},\n",
    "    {'instruction': 'Capitalize', 'input': 'world', 'output': 'our real world'},\n",
    "]\n",
    "\n",
    "from transformers import AutoTokenizer  # 从transformers库导入AutoTokenizer类\n",
    "\n",
    "model_path = \"../results/checkpoint-103520\"\n",
    "# 加载微调后模型 (SFT) 和 tokenizer\n",
    "tokenizer = AutoTokenizer.from_pretrained(model_path, use_fast=False, trust_remote_code=True)"
   ]
  },
  {
   "cell_type": "code",
   "execution_count": 25,
   "metadata": {},
   "outputs": [],
   "source": [
    "instructions = [sample['instruction'] for sample in batch]\n",
    "inputs = [sample['input'] for sample in batch]\n",
    "outputs = [sample['output'] for sample in batch]\n",
    "input_texts = [f\"{instruction} {input} {output}\" for instruction, input, output in zip(instructions, inputs, outputs)] "
   ]
  },
  {
   "cell_type": "code",
   "execution_count": 26,
   "metadata": {},
   "outputs": [
    {
     "name": "stdout",
     "output_type": "stream",
     "text": [
      "8\n",
      "5\n",
      "4\n"
     ]
    }
   ],
   "source": [
    "tokenized_inputs = tokenizer(\n",
    "    input_texts,\n",
    "    padding=True,\n",
    "    truncation=True,\n",
    "    return_tensors=\"pt\",\n",
    "    max_length=tokenizer.model_max_length,\n",
    "    add_special_tokens=True\n",
    ")\n",
    "\n",
    "labels = tokenized_inputs[\"input_ids\"].clone()\n",
    "for i, feature in enumerate(batch):\n",
    "    instruction_length = len(tokenizer(feature['instruction'], add_special_tokens=False)[\"input_ids\"])\n",
    "    if feature['input'] is None:\n",
    "        feature['input'] = \"\"\n",
    "    input_length = len(tokenizer(feature['input'], add_special_tokens=False)[\"input_ids\"])\n",
    "    output_start = instruction_length + input_length+1\n",
    "    print(output_start)\n",
    "    labels[i, :output_start] = -100"
   ]
  },
  {
   "cell_type": "code",
   "execution_count": 27,
   "metadata": {},
   "outputs": [
    {
     "name": "stdout",
     "output_type": "stream",
     "text": [
      "Sample 1:\n",
      "Input IDs: tensor([35127,  2326, 10414,   369, 19429,  9314,    13,   220, 13481, 29262])\n",
      "Labels: tensor([ -100,  -100,  -100,  -100,  -100,  -100,  -100,  -100, 13481, 29262])\n",
      "----------------------------------------\n",
      "Sample 2:\n",
      "Input IDs: tensor([  9190,    220,     16,    220,     17,    220,     18, 151643, 151643,\n",
      "        151643])\n",
      "Labels: tensor([  -100,   -100,   -100,   -100,   -100,    220,     18, 151643, 151643,\n",
      "        151643])\n",
      "----------------------------------------\n",
      "Sample 3:\n",
      "Input IDs: tensor([ 12903,  34313,   1879,   1039,   1931,   1879, 151643, 151643, 151643,\n",
      "        151643])\n",
      "Labels: tensor([  -100,   -100,   -100,   -100,   1931,   1879, 151643, 151643, 151643,\n",
      "        151643])\n",
      "----------------------------------------\n"
     ]
    }
   ],
   "source": [
    "for i, (input_id, label) in enumerate(zip(tokenized_inputs[\"input_ids\"], labels)):\n",
    "    print(f\"Sample {i+1}:\")\n",
    "    print(f\"Input IDs: {input_id}\")\n",
    "    print(f\"Labels: {label}\")\n",
    "    print(\"-\" * 40)"
   ]
  },
  {
   "cell_type": "code",
   "execution_count": 28,
   "metadata": {},
   "outputs": [],
   "source": [
    "instruction_inputs = [f\"{instruction} {input}\" for instruction, input in zip(instructions, inputs)]\n"
   ]
  },
  {
   "cell_type": "code",
   "execution_count": 29,
   "metadata": {},
   "outputs": [
    {
     "name": "stdout",
     "output_type": "stream",
     "text": [
      "Sample 1:\n",
      "Full Input IDs: tensor([35127,  2326, 10414,   369, 19429,  9314,    13,   220, 13481, 29262])\n",
      "Instruction+Input IDs: tensor([35127,  2326, 10414,   369, 19429,  9314,    13,   220])\n",
      "----------------------------------------\n",
      "Sample 2:\n",
      "Full Input IDs: tensor([  9190,    220,     16,    220,     17,    220,     18, 151643, 151643,\n",
      "        151643])\n",
      "Instruction+Input IDs: tensor([  9190,    220,     16,    220,     17, 151643, 151643, 151643])\n",
      "----------------------------------------\n",
      "Sample 3:\n",
      "Full Input IDs: tensor([ 12903,  34313,   1879,   1039,   1931,   1879, 151643, 151643, 151643,\n",
      "        151643])\n",
      "Instruction+Input IDs: tensor([ 12903,  34313,   1879, 151643, 151643, 151643, 151643, 151643])\n",
      "----------------------------------------\n"
     ]
    }
   ],
   "source": [
    "tokenized_instruction_inputs = tokenizer(\n",
    "    instruction_inputs,\n",
    "    padding=True,\n",
    "    truncation=True,\n",
    "    return_tensors=\"pt\",\n",
    "    max_length=tokenizer.model_max_length\n",
    ")\n",
    "\n",
    "for i in range(len(batch)):\n",
    "    print(f\"Sample {i+1}:\")\n",
    "    print(f\"Full Input IDs: {tokenized_inputs['input_ids'][i]}\")\n",
    "    print(f\"Instruction+Input IDs: {tokenized_instruction_inputs['input_ids'][i]}\")\n",
    "    print(\"-\" * 40)"
   ]
  },
  {
   "cell_type": "markdown",
   "metadata": {},
   "source": [
    "#### 原模型生成能力"
   ]
  },
  {
   "cell_type": "code",
   "execution_count": 23,
   "metadata": {},
   "outputs": [
    {
     "name": "stderr",
     "output_type": "stream",
     "text": [
      "<>:16: SyntaxWarning: invalid escape sequence '\\c'\n",
      "<>:18: SyntaxWarning: invalid escape sequence '\\c'\n",
      "<>:16: SyntaxWarning: invalid escape sequence '\\c'\n",
      "<>:18: SyntaxWarning: invalid escape sequence '\\c'\n",
      "C:\\Windows\\Temp\\ipykernel_33316\\924351632.py:16: SyntaxWarning: invalid escape sequence '\\c'\n",
      "  sft_tokenizer = AutoTokenizer.from_pretrained(\"results\\checkpoint-103520\", use_fast=False, trust_remote_code=True)\n",
      "C:\\Windows\\Temp\\ipykernel_33316\\924351632.py:18: SyntaxWarning: invalid escape sequence '\\c'\n",
      "  \"results\\checkpoint-103520\",\n",
      "The attention mask and the pad token id were not set. As a consequence, you may observe unexpected behavior. Please pass your input's `attention_mask` to obtain reliable results.\n",
      "Setting `pad_token_id` to `eos_token_id`:None for open-end generation.\n",
      "Both `max_new_tokens` (=2048) and `max_length`(=10) seem to have been set. `max_new_tokens` will take precedence. Please refer to the documentation for more information. (https://huggingface.co/docs/transformers/main/en/main_classes/text_generation)\n"
     ]
    },
    {
     "name": "stdout",
     "output_type": "stream",
     "text": [
      "微调后模型 (SFT) 生成结果：\n",
      "My cell phone fell into the water. What should I do? None If your cell phone falls into water, the most important thing is to get it out of the water as soon as possible. Here are some steps you can follow:\n",
      "\n",
      "1. If you have a phone that has a built-in water-resistant battery, try to use it to call for help or send an emergency text message.\n",
      "\n",
      "2. If you have a phone with a removable battery, you can try to remove the battery and plug it into a power source, such as a laptop or a charger.\n",
      "\n",
      "3. If you are using a mobile phone, try to hold the phone above the water, away from your face, to prevent water from entering your ear. If you are using a smartphone with a water-resistant screen, it may still be able to protect your phone from the water.\n",
      "\n",
      "4. If you are unable to get your phone out of water, immediately contact a professional for help.\n",
      "\n",
      "It is important to remember that water can damage phones and other electronic devices, so it is always a good idea to keep them in a dry place, away from water or moisture. If you have any questions or concerns, it is best to contact a professional for assistance. It is always safer to be prepared and have a plan in place for when you lose your phone. You can also consider purchasing a waterproof phone case or water-resistant phone bag to protect your phone during the incident. Remember, it is important to take precautions to ensure your safety and the safety of others. If you have any questions or concerns, it is best to contact a professional for assistance. It is always safer to be prepared and have a plan in place for when you lose your phone. You can also consider purchasing a waterproof phone case or water-resistant phone bag to protect your phone during the incident. Remember, it is important to take precautions to ensure your safety and the safety of others. If you have any questions or concerns, it is best to contact a professional for assistance. It is always safer to be prepared and have a plan in place for when you lose your phone. You can also consider purchasing a waterproof phone case or water-resistant phone bag to protect your phone during the incident. Remember, it is important to take precautions to ensure your safety and the safety of others. If you have any questions or concerns, it is best to contact a professional for assistance. It is always safer to be prepared and have a plan in place for when you lose your phone. You can also consider purchasing a waterproof phone case or water-resistant phone bag to protect your phone during the incident. Remember, it is important to take precautions to ensure your safety and the safety of others. If you have any questions or concerns, it is best to contact a professional for assistance. It is always safer to be prepared and have a plan in place for when you lose your phone. You can also consider purchasing a waterproof phone case or water-resistant phone bag to protect your phone during the incident. Remember, it is important to take precautions to ensure your safety and the safety of others. If you have any questions or concerns, it is best to contact a professional for assistance. It is always safer to be prepared and have a plan in place for when you lose your phone. You can also consider purchasing a waterproof phone case or water-resistant phone bag to protect your phone during the incident. Remember, it is important to take precautions to ensure your safety and the safety of others. If you have any questions or concerns, it is best to contact a professional for assistance. It is always safer to be prepared and have a plan in place for when you lose your phone. You can also consider purchasing a waterproof phone case or water-resistant phone bag to protect your phone during the incident. Remember, it is important to take precautions to ensure your safety and the safety of others. If you have any questions or concerns, it is best to contact a professional for assistance. It is always safer to be prepared and have a plan in place for when you lose your phone. You can also consider purchasing a waterproof phone case or water-resistant phone bag to protect your phone during the incident. Remember, it is important to take precautions to ensure your safety and the safety of others. If you have any questions or concerns, it is best to contact a professional for assistance. It is always safer to be prepared and have a plan in place for when you lose your phone. You can also consider purchasing a waterproof phone case or water-resistant phone bag to protect your phone during the incident. Remember, it is important to take precautions to ensure your safety and the safety of others. If you have any questions or concerns, it is best to contact a professional for assistance. It is always safer to be prepared and have a plan in place for when you lose your phone. You can also consider purchasing a waterproof phone case or water-resistant phone bag to protect your phone during the incident. Remember, it is important to take precautions to ensure your safety and the safety of others. If you have any questions or concerns, it is best to contact a professional for assistance. It is always safer to be prepared and have a plan in place for when you lose your phone. You can also consider purchasing a waterproof phone case or water-resistant phone bag to protect your phone during the incident. Remember, it is important to take precautions to ensure your safety and the safety of others. If you have any questions or concerns, it is best to contact a professional for assistance. It is always safer to be prepared and have a plan in place for when you lose your phone. You can also consider purchasing a waterproof phone case or water-resistant phone bag to protect your phone during the incident. Remember, it is important to take precautions to ensure your safety and the safety of others. If you have any questions or concerns, it is best to contact a professional for assistance. It is always safer to be prepared and have a plan in place for when you lose your phone. You can also consider purchasing a waterproof phone case or water-resistant phone bag to protect your phone during the incident. Remember, it is important to take precautions to ensure your safety and the safety of others. If you have any questions or concerns, it is best to contact a professional for assistance. It is always safer to be prepared and have a plan in place for when you lose your phone. You can also consider purchasing a waterproof phone case or water-resistant phone bag to protect your phone during the incident. Remember, it is important to take precautions to ensure your safety and the safety of others. If you have any questions or concerns, it is best to contact a professional for assistance. It is always safer to be prepared and have a plan in place for when you lose your phone. You can also consider purchasing a waterproof phone case or water-resistant phone bag to protect your phone during the incident. Remember, it is important to take precautions to ensure your safety and the safety of others. If you have any questions or concerns, it is best to contact a professional for assistance. It is always safer to be prepared and have a plan in place for when you lose your phone. You can also consider purchasing a waterproof phone case or water-resistant phone bag to protect your phone during the incident. Remember, it is important to take precautions to ensure your safety and the safety of others. If you have any questions or concerns, it is best to contact a professional for assistance. It is always safer to be prepared and have a plan in place for when you lose your phone. You can also consider purchasing a waterproof phone case or water-resistant phone bag to protect your phone during the incident. Remember, it is important to take precautions to ensure your safety and the safety of others. If you have any questions or concerns, it is best to contact a professional for assistance. It is always safer to be prepared and have a plan in place for when you lose your phone. You can also consider purchasing a waterproof phone case or water-resistant phone bag to protect your phone during the incident. Remember, it is important to take precautions to ensure your safety and the safety of others. If you have any questions or concerns, it is best to contact a professional for assistance. It is always safer to be prepared and have a plan in place for when you lose your phone. You can also consider purchasing a waterproof phone case or water-resistant phone bag to protect your phone during the incident. Remember, it is important to take precautions to ensure your safety and the safety of others. If you have any questions or concerns, it is best to contact a professional for assistance. It is always safer to be prepared and have a plan in place for when you lose your phone. You can also consider purchasing a waterproof phone case or water-resistant phone bag to protect your phone during the incident. Remember, it is important to take precautions to ensure your safety and the safety of others. If you have any questions or concerns, it is best to contact a professional for assistance. It is always safer to be prepared and have a plan in place for when you lose your phone. You can also consider purchasing a waterproof phone case or water-resistant phone bag to protect your phone during the incident. Remember, it is important to take precautions to ensure your safety and the safety of others. If you have any questions or concerns, it is best to contact a professional for assistance. It is always safer to be prepared and have a plan in place for when you lose your phone. You can also consider purchasing a waterproof phone case or water-resistant phone bag to protect your phone during the incident. Remember, it is important to take precautions to ensure your safety and the safety of others. If you have any questions or concerns, it is best to contact a professional for assistance. It is always safer to be prepared and have a plan in place for when you lose your phone. You can also consider purchasing a waterproof phone case or water-resistant phone bag to protect your phone during the incident. Remember, it is important to take precautions to ensure your safety and the safety of others. If you have any questions or concerns, it is best to contact a professional for assistance. It is always safer to be prepared and have a plan in place for when you lose your phone. You can\n"
     ]
    }
   ],
   "source": [
    "import torch\n",
    "from transformers import AutoModelForCausalLM, AutoTokenizer\n",
    "\n",
    "# 确保CUDA可用\n",
    "device = torch.device(\"cuda\" if torch.cuda.is_available() else \"cpu\")\n",
    "\n",
    "# 加载原始预训练模型 (PLM) 和 tokenizer\n",
    "plm_tokenizer = AutoTokenizer.from_pretrained(\"qwen2.5\", use_fast=False, trust_remote_code=True)\n",
    "plm_model = AutoModelForCausalLM.from_pretrained(\n",
    "    \"qwen2.5\", \n",
    "    device_map=None, \n",
    "    torch_dtype=torch.bfloat16\n",
    ").to(device)\n",
    "\n",
    "# 加载微调后模型 (SFT) 和 tokenizer\n",
    "sft_tokenizer = AutoTokenizer.from_pretrained(\"results\\checkpoint-103520\", use_fast=False, trust_remote_code=True)\n",
    "sft_model = AutoModelForCausalLM.from_pretrained(\n",
    "    \"results\\checkpoint-103520\", \n",
    "    device_map=None, \n",
    "    torch_dtype=torch.bfloat16\n",
    ").to(device)\n",
    "\n",
    "# 输入指令\n",
    "input_text = \"My cell phone fell into the water. What should I do?\"\n",
    "\n",
    "# 定义生成函数\n",
    "def generate_response(model, tokenizer, input_text, max_length=10):\n",
    "    inputs = tokenizer(input_text, return_tensors=\"pt\").to(device)\n",
    "    outputs = model.generate(\n",
    "        inputs[\"input_ids\"],\n",
    "        max_length=max_length,\n",
    "        temperature=0.7,\n",
    "        top_k=50,\n",
    "        top_p=0.9,\n",
    "        do_sample=True,\n",
    "        num_return_sequences=1\n",
    "    )\n",
    "    response = tokenizer.decode(outputs[0], skip_special_tokens=True)\n",
    "    return response\n",
    "\n",
    "# # 生成预训练模型 (PLM) 的结果\n",
    "# plm_response = generate_response(plm_model, plm_tokenizer, input_text)\n",
    "# print(\"预训练模型 (PLM) 生成结果：\")\n",
    "# print(plm_response)\n",
    "\n",
    "# 生成微调后模型 (SFT) 的结果\n",
    "sft_response = generate_response(sft_model, sft_tokenizer, input_text)\n",
    "print(\"微调后模型 (SFT) 生成结果：\")\n",
    "print(sft_response)\n"
   ]
  }
 ],
 "metadata": {
  "kernelspec": {
   "display_name": "machinelearn",
   "language": "python",
   "name": "python3"
  },
  "language_info": {
   "codemirror_mode": {
    "name": "ipython",
    "version": 3
   },
   "file_extension": ".py",
   "mimetype": "text/x-python",
   "name": "python",
   "nbconvert_exporter": "python",
   "pygments_lexer": "ipython3",
   "version": "3.12.3"
  }
 },
 "nbformat": 4,
 "nbformat_minor": 2
}
